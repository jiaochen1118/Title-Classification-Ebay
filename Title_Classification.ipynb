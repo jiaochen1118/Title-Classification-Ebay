{
 "cells": [
  {
   "cell_type": "markdown",
   "metadata": {},
   "source": [
    "# Basic Observation and data summary"
   ]
  },
  {
   "cell_type": "markdown",
   "metadata": {},
   "source": [
    "### Load data"
   ]
  },
  {
   "cell_type": "markdown",
   "metadata": {},
   "source": [
    "Data contains itemID, itemTitle, condition and price. The key to classify items from CSA to JWL is the itemTitle. We load itemTitle data from \"CSA5k.txt\" and \"JWL35k.txt\" file. "
   ]
  },
  {
   "cell_type": "code",
   "execution_count": 5,
   "metadata": {
    "collapsed": false
   },
   "outputs": [],
   "source": [
    "file_CSA = open(\"CSA5k.txt\")\n",
    "file_JWL = open(\"JWL35k.txt\")\n",
    "data_CSA = []\n",
    "data_JWL = []\n",
    "for line in file_CSA:\n",
    "    title = line.strip(\"\\n\").split(\"\\t\")[1].decode('utf-8').lower()\n",
    "    if title != -1:\n",
    "        data_CSA.append((title,\"CSA\"))\n",
    "for line in file_JWL:\n",
    "    title = line.strip(\"\\n\").split(\"\\t\")[1].decode('utf-8').lower()\n",
    "    if title != -1:\n",
    "        data_JWL.append((title,\"JWL\"))"
   ]
  },
  {
   "cell_type": "markdown",
   "metadata": {},
   "source": [
    "### Classification model selection "
   ]
  },
  {
   "cell_type": "markdown",
   "metadata": {},
   "source": [
    "#### Package used here"
   ]
  },
  {
   "cell_type": "code",
   "execution_count": 17,
   "metadata": {
    "collapsed": false
   },
   "outputs": [],
   "source": [
    "from textblob.classifiers import NaiveBayesClassifier\n",
    "from sklearn.feature_extraction.text import CountVectorizer\n",
    "from sklearn.naive_bayes import MultinomialNB\n",
    "from sklearn.pipeline import Pipeline\n",
    "from sklearn import linear_model\n",
    "from sklearn.cross_validation import KFold\n",
    "from sklearn.feature_extraction.text import TfidfTransformer\n",
    "from sklearn.linear_model import SGDClassifier\n",
    "import numpy as np\n"
   ]
  },
  {
   "cell_type": "markdown",
   "metadata": {},
   "source": [
    "In order to observe the performance of the model in the future, we split data to two parts. One is train data, the other is test data. In this case, I choose the proportion is 7:3."
   ]
  },
  {
   "cell_type": "code",
   "execution_count": 10,
   "metadata": {
    "collapsed": true
   },
   "outputs": [],
   "source": [
    "TRAIN_PROP = 0.7\n",
    "train = data_CSA[:int(len(data_CSA)*TRAIN_PROP)] + data_JWL[:int(len(data_JWL)*TRAIN_PROP)]\n",
    "test = data_CSA[int(len(data_CSA)*TRAIN_PROP):] + data_JWL[int(len(data_JWL)*TRAIN_PROP):]"
   ]
  },
  {
   "cell_type": "markdown",
   "metadata": {},
   "source": [
    "The idea of classification is that we try to tokenize the title string into short words by space. We count the occurrences of tokens in these two categories. We build a classifier based on this information. In order to avoid the impact of tokens that occur very frequently in a given corpus are hence empirically less informative than features that occur in a small fraction of the training corpus, we transfer occurrences of raw data to tf-idf.We can choose  SVM and Naive Bayes classifier. Here we use 10-fold cross validation to see which model is better. We split train data to 10 subsets. We use 1 piece as test data and the rest 9 pieces as train data to model. We will test the prediction error of two models and choose a better one."
   ]
  },
  {
   "cell_type": "code",
   "execution_count": 19,
   "metadata": {
    "collapsed": false
   },
   "outputs": [],
   "source": [
    "np.random.shuffle(train)\n",
    "kf = KFold(len(train), n_folds=10)\n",
    "SVM_error = []\n",
    "NB_error = []\n",
    "for train_index,test_index in kf:\n",
    "    train_val, test_val = np.array(train)[train_index], np.array(train)[test_index]\n",
    "    ##NaiveBayes classifier\n",
    "    text_nb = Pipeline([('vect',CountVectorizer()),('tfidf',TfidfTransformer()),('clf',MultinomialNB()),])\n",
    "    text_nb = text_nb.fit([x[0] for x in train_val],[x[1] for x in train_val])\n",
    "    predicted_nb = text_nb.predict([x[0] for x in test_val])\n",
    "    NB_error.append(np.mean(predicted_nb == [x[1] for x in test_val]))\n",
    "    ##SVM classifier\n",
    "    text_svm = Pipeline([('vect',CountVectorizer()),('tfidf',TfidfTransformer()),('clf',SGDClassifier()),])\n",
    "    text_svm = text_svm.fit([x[0] for x in train_val],[x[1] for x in train_val])\n",
    "    predicted_svm = text_svm.predict([x[0] for x in test_val])\n",
    "    SVM_error.append(np.mean(predicted_svm == [x[1] for x in test_val]))"
   ]
  },
  {
   "cell_type": "code",
   "execution_count": 31,
   "metadata": {
    "collapsed": false
   },
   "outputs": [
    {
     "name": "stdout",
     "output_type": "stream",
     "text": [
      "0.0303928571429\n",
      "0.00649675324675\n"
     ]
    }
   ],
   "source": [
    "print 1-np.mean(NB_error)\n",
    "print 1-np.mean(SVM_error)"
   ]
  },
  {
   "cell_type": "markdown",
   "metadata": {},
   "source": [
    "We calculate the average prediction cross validation error of two models. We found that SVM has less misclassification error so that SVM is a better model to choose."
   ]
  },
  {
   "cell_type": "markdown",
   "metadata": {},
   "source": [
    "### Classify and test the performance"
   ]
  },
  {
   "cell_type": "code",
   "execution_count": 26,
   "metadata": {
    "collapsed": false
   },
   "outputs": [],
   "source": [
    "text_svm = Pipeline([('vect',CountVectorizer()),('tfidf',TfidfTransformer()),('clf',SGDClassifier()),])\n",
    "text_svm = text_svm.fit([x[0] for x in train],[x[1] for x in train])  ##final model\n",
    "predicted_svm = text_svm.predict([x[0] for x in test])\n",
    "test_error = np.mean(predicted_svm == [x[1] for x in test])"
   ]
  },
  {
   "cell_type": "code",
   "execution_count": 29,
   "metadata": {
    "collapsed": false
   },
   "outputs": [
    {
     "name": "stdout",
     "output_type": "stream",
     "text": [
      "0.00808333333333\n"
     ]
    }
   ],
   "source": [
    "print 1-test_error"
   ]
  },
  {
   "cell_type": "markdown",
   "metadata": {},
   "source": [
    "We use train data to fit the model and use test data as new input to observe the performance of SVM model. Finally the test prediction error is 0.008. We cannot claim that this rate is tolerent or not. We have 12000 test data, which means around 100 of them are misclassified. If everyday listing contains large scale of data, 0.8% misclassification rate might cause problem when doing classification. Therefore, we might need to discuss about the tolerance of this classification model and try to observe those misclassified data to check the reason and the pattern of why this method lead these item misclassified."
   ]
  },
  {
   "cell_type": "code",
   "execution_count": 37,
   "metadata": {
    "collapsed": false
   },
   "outputs": [
    {
     "data": {
      "text/plain": [
       "(array([   56,    71,    97,   113,   126,   128,   140,   147,   150,\n",
       "          162,   163,   192,   218,   226,   239,   246,   252,   270,\n",
       "          317,   320,   347,   453,   502,   505,   530,   533,   572,\n",
       "          578,   599,   624,   629,   630,   632,   635,   640,   663,\n",
       "          694,   768,   810,   825,   855,   866,   869,   880,   898,\n",
       "          908,   959,   963,   987,  1019,  1046,  1053,  1065,  1067,\n",
       "         1073,  1082,  1126,  1132,  1173,  1198,  1222,  1226,  1245,\n",
       "         1272,  1273,  1280,  1325,  1345,  1351,  1359,  1371,  1452,\n",
       "         1470,  1484,  3007,  3339,  3909,  4584,  4850,  4906,  5452,\n",
       "         5833,  6486,  6916,  6922,  6993,  7975,  8157,  8546,  8711,\n",
       "         9720,  9742, 10863, 10991, 11290, 11323, 11399]),)"
      ]
     },
     "execution_count": 37,
     "metadata": {},
     "output_type": "execute_result"
    }
   ],
   "source": [
    "index = np.where(predicted_svm != [x[1] for x in test])\n",
    "index"
   ]
  },
  {
   "cell_type": "code",
   "execution_count": 38,
   "metadata": {
    "collapsed": false
   },
   "outputs": [
    {
     "data": {
      "text/plain": [
       "array([[u'vintage englert trucking co silvertone & goldtone #1 key chain',\n",
       "        u'CSA'],\n",
       "       [ u'shoe sneaker shoelace charm decoration i love heart names female k kena',\n",
       "        u'CSA'],\n",
       "       [ u'peace hippie boho fair trade ethnic hill tribe nepal handbag pom poms bells (29)',\n",
       "        u'CSA'],\n",
       "       [u'thanksgiving hair bow on an alligator clip', u'CSA'],\n",
       "       [ u'skidlid original motorcycle half helmet in bomber pin up silver / blue xs-2xl',\n",
       "        u'CSA'],\n",
       "       [ u'corduroy breton cap with brass buttons ; john lennon fisherman style beatles',\n",
       "        u'CSA'],\n",
       "       [u'barely breezies s/2 seamless modern teardrop bras a211857',\n",
       "        u'CSA'],\n",
       "       [u'steve madden beasst bronze snake us 7', u'CSA'],\n",
       "       [ u'big cheetah cheer bow glitter white purple ribbon girls uniform accessories ties',\n",
       "        u'CSA'],\n",
       "       [u'authentic vans grey / black', u'CSA'],\n",
       "       [ u'ganz women\\u2019s scarf with silver beads & jewel accents various colors er24452',\n",
       "        u'CSA'],\n",
       "       [u'vintage avenue 38\" 23mm metal belt w/ dangling leaf charms silver tone',\n",
       "        u'CSA'],\n",
       "       [u'native miller glow child in fire truck red sizes 4-13', u'CSA'],\n",
       "       [ u'this soul belongs to jesus (christ gold silver cross icon holy orthodox) t-shirt',\n",
       "        u'CSA'],\n",
       "       [ u'corkys regan jeweled flip flops silver/gold super bling stones 6-11 new in box',\n",
       "        u'CSA'],\n",
       "       [ u'vtg. brighton alligator stamped leather silver heart angel buckles sz.s 42409 #9',\n",
       "        u'CSA'],\n",
       "       [ u\"1set men's groom crystal cufflinks & necktie tie clasp clip bar pin fancy gift\",\n",
       "        u'CSA'],\n",
       "       [u'taos pizazz pewter', u'CSA'],\n",
       "       [u'vintage round metal eyewear  ', u'CSA'],\n",
       "       [ u'thunder road motor oil highway to hell old school devil skull sweatshirt ws543',\n",
       "        u'CSA'],\n",
       "       [u'5\" boutique stacked hair bow with gator clip', u'CSA'],\n",
       "       [u'sassy candy monogrammed retractable id badge reel', u'CSA'],\n",
       "       [u'mint$60 *express* brown gold sparkle glitter stretch wrap top s m',\n",
       "        u'CSA'],\n",
       "       [ u'a crystal  hair pin glass pearl 269p, rose color. a good gift for a girl',\n",
       "        u'CSA'],\n",
       "       [ u'hair chains for wedding prom bridal silver/gold crystal tone on grips or combs',\n",
       "        u'CSA'],\n",
       "       [ u'clear lens eyeglasses metal & plastic horn rim frame glasses black silver',\n",
       "        u'CSA'],\n",
       "       [ u'new wedding garter french pink white prom homecoming getthegoodstuff love charm',\n",
       "        u'CSA'],\n",
       "       [ u'durable aluminum credit card case box id credit card wallet holder case',\n",
       "        u'CSA'],\n",
       "       [u'the legend of zelda - 11pc. necklace gift set', u'CSA'],\n",
       "       [ u'women bling big pearl silver rhinestone metal chain belt waist hip wedding ring ',\n",
       "        u'CSA'],\n",
       "       [ u'vtg feather wallet lee sands set peacock pheasant earrings native american w box',\n",
       "        u'CSA'],\n",
       "       [u'hippie beaded rope bracelet', u'CSA'],\n",
       "       [ u'clearance closeout lot 5 reading glasses 4 cases 1 hard case men +1.25 mrs5-4748',\n",
       "        u'CSA'],\n",
       "       [ u'wholesale 7pcs 60g clip in 100% human hair extensions many colors 16\" 20\" 24\" ',\n",
       "        u'CSA'],\n",
       "       [ u'christion audigier don ed hardy red 3 xl.new with tag  king dog forever ',\n",
       "        u'CSA'],\n",
       "       [u'michael kors mens tie, gold with brown and blue squares', u'CSA'],\n",
       "       [u\"i love you but i've chosen trance turquoise v-neck\", u'CSA'],\n",
       "       [u'gi watch caps - stylish and warm - white', u'CSA'],\n",
       "       [u'25th birthday gift birthday tshirt gift for him birthday outfit bd-101',\n",
       "        u'CSA'],\n",
       "       [u'scarf with jewelry - silver plated pendant', u'CSA'],\n",
       "       [u'hairware color 2\" bobby pins - 60 ct cp-72x', u'CSA'],\n",
       "       [ u'5x fashion twinkle crystal faux pearls bridal bridemaid headband tiara crown',\n",
       "        u'CSA'],\n",
       "       [ u'charismatico red and gold fire inspired mohawk styled red feather headdress',\n",
       "        u'CSA'],\n",
       "       [ u'hair styling clip women hair comb band hairpin fashion hair accessories dz88',\n",
       "        u'CSA'],\n",
       "       [ u'clown dots butterfly fairy angel  wings, elastic arm straps glitter & feathers ',\n",
       "        u'CSA'],\n",
       "       [u'pakistani indian shalwar kameez kurta summer sale leline', u'CSA'],\n",
       "       [ u'i love my cocker spaniel dog key chain key ring - zipper pull - nwt - nice!',\n",
       "        u'CSA'],\n",
       "       [ u'rock and republic keidis crystal skull wide leg jean antrax wash org. $267  ',\n",
       "        u'CSA'],\n",
       "       [u'bridal flower rhinestone crystal wedding necklace earrings set n293',\n",
       "        u'CSA'],\n",
       "       [u'kangol  gold   shine  links  adjustable  baseball  cap style k4044st',\n",
       "        u'CSA'],\n",
       "       [ u'indian party wear saree wedding designer new bollywood sari .ethnic pakistani',\n",
       "        u'CSA'],\n",
       "       [ u'free shipping new sexy orange black bridal wedding garters\\xa0- getthegoodstuff',\n",
       "        u'CSA'],\n",
       "       [u'marvel tshirts size large bidding on 2 different designs', u'CSA'],\n",
       "       [u\"i'm not fat coffee & tea mug\", u'CSA'],\n",
       "       [ u'hot girls hair ties pearl hairband elastic hair tie rope strap ponytail holder',\n",
       "        u'CSA'],\n",
       "       [u'l.o.g.g. h&m', u'CSA'],\n",
       "       [ u'genuine original prada calzature donna nappa sport ladies shoe black nero in box',\n",
       "        u'CSA'],\n",
       "       [ u\"big lot of women's handmade scarves 10 total beautiful styles & colors new look!\",\n",
       "        u'CSA'],\n",
       "       [ u'wedding desiner party wear saree pakistani ethnic festival traditional sari',\n",
       "        u'CSA'],\n",
       "       [u'renaissance sailor/pirate satin sash with fringe', u'CSA'],\n",
       "       [u'columbia tenacity ii', u'CSA'],\n",
       "       [u'fash chic mod circle bowler hobo handbag', u'CSA'],\n",
       "       [ u'usa red mix df1090 lace front wig pin part heat ok iron safe hand tied sas*',\n",
       "        u'CSA'],\n",
       "       [u'chinese laundry pacific size 7.5 org 89$', u'CSA'],\n",
       "       [ u'7a unprocessed virgin hair loose wave lace closure brazilian free part 4x4 inch',\n",
       "        u'CSA'],\n",
       "       [u'[uniq] 1st mini album [eoeo] cd+booklet+photo card+poster sealed k-pop',\n",
       "        u'CSA'],\n",
       "       [u'jordan 13', u'CSA'],\n",
       "       [u'new jp kids legging 4t purple free shipping', u'CSA'],\n",
       "       [u'solid black totes \"titan\" max strength automatic folding umbrella nwt',\n",
       "        u'CSA'],\n",
       "       [u'etienne aigner silver jeweled dianne sandals 11m retail $59',\n",
       "        u'CSA'],\n",
       "       [ u'embellished white rhinestone torrid forever rue 21 wet seal alfani blouse m/l',\n",
       "        u'CSA'],\n",
       "       [ u'tan & gold sparkle womans size 7 dress & free choker necklace in gold & teal',\n",
       "        u'CSA'],\n",
       "       [ u'bejeweled beaded trade show badge id license name tag holder lime lanyard',\n",
       "        u'CSA'],\n",
       "       [ u'iheartraves electric styles white light up el wire tie rave festival wear',\n",
       "        u'CSA'],\n",
       "       [ u'vintage plastic brown cream white lucite art deco 2 piece small belt buckle',\n",
       "        u'JWL'],\n",
       "       [ u'sapphire & diamond wedding engagement ring sz 5 sz 6 sz 7 sz 8 sz 9 sz 10 prince',\n",
       "        u'JWL'],\n",
       "       [ u'buy 2 get 1 free mlb major league baseball silver suit shirt tie bar clip clasp',\n",
       "        u'JWL'],\n",
       "       [ u\"new cute sexy women's bikini set bandage swimwear swimsuit beachwear oe\",\n",
       "        u'JWL'],\n",
       "       [u'az womens cute fruit hair clips girls child lovely kid gift ',\n",
       "        u'JWL'],\n",
       "       [ u'yf007 new bridal waist sash satin belt bridesmaid wedding evening party dress ',\n",
       "        u'JWL'],\n",
       "       [ u'chuunibyou unisex kids mens womens boys girls durable color wrist watches',\n",
       "        u'JWL'],\n",
       "       [ u'bright snowflake bolo tie gemstone bola ties suit shirt necktie necklace',\n",
       "        u'JWL'],\n",
       "       [ u'purse - unique brown leather fringe 4\" coin purse w baby indian broach pin',\n",
       "        u'JWL'],\n",
       "       [ u'emerald green post convertiblez jacket set  gold flower jacket and convertiblez ',\n",
       "        u'JWL'],\n",
       "       [u'silk bracelet with 180.00ctw  pink rhondonites retail $99 nwt',\n",
       "        u'JWL'],\n",
       "       [u'fashion jewelry black lace hollow mesh party half accessory mask women',\n",
       "        u'JWL'],\n",
       "       [u'winter flora miniature sheet first day cover (isle of man stamps)',\n",
       "        u'JWL'],\n",
       "       [u'\"jj\" jonette jewelry bronze pewter \\'girl zipper pull\\' ~ jacket/purse',\n",
       "        u'JWL'],\n",
       "       [ u'lot ralph lauren white house black market my flat london treska jessica simpson',\n",
       "        u'JWL'],\n",
       "       [ u'monet white daisy pin,gold tone,2.5\" ,retro,summer dress party,scarf,purse,coat',\n",
       "        u'JWL'],\n",
       "       [u'vintage rhinestone silk strap', u'JWL'],\n",
       "       [ u'sexy womens harness tassel layered bikini beach necklace belly waist body chains',\n",
       "        u'JWL'],\n",
       "       [ u'men women clothing bag collocation alloy bird belt buckle high leather bracelet',\n",
       "        u'JWL'],\n",
       "       [u'girls headband with yellow/red flower', u'JWL'],\n",
       "       [ u'set 2 brand new american eagle men leather bracelets one size o/s  nwot',\n",
       "        u'JWL'],\n",
       "       [u'scarf 77x18 in dark blue cross-hatch 100 % indian cotton hand-batiked',\n",
       "        u'JWL'],\n",
       "       [ u'new womens orchids rhinestone-studded coconut tree classic clothes accessory ',\n",
       "        u'JWL']], \n",
       "      dtype='<U80')"
      ]
     },
     "execution_count": 38,
     "metadata": {},
     "output_type": "execute_result"
    }
   ],
   "source": [
    "np.array(test)[index]"
   ]
  },
  {
   "cell_type": "markdown",
   "metadata": {},
   "source": [
    "Just by observation, we can see some titles are really confusing, such as \"new bridal waist sash satin belt bridesmaid wedding evening party dress\", which contains \"dress\" but belong to JWL category.\n",
    "These kinds of cases, we might need to dig into it in the future."
   ]
  }
 ],
 "metadata": {
  "kernelspec": {
   "display_name": "Python 2",
   "language": "python",
   "name": "python2"
  },
  "language_info": {
   "codemirror_mode": {
    "name": "ipython",
    "version": 2
   },
   "file_extension": ".py",
   "mimetype": "text/x-python",
   "name": "python",
   "nbconvert_exporter": "python",
   "pygments_lexer": "ipython2",
   "version": "2.7.10"
  }
 },
 "nbformat": 4,
 "nbformat_minor": 0
}
